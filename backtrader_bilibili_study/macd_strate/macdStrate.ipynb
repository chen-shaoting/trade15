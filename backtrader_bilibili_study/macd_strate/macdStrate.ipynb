{
 "cells": [
  {
   "cell_type": "code",
   "execution_count": null,
   "metadata": {},
   "outputs": [],
   "source": [
    "import backtrader as bt\n",
    "import datetime\n",
    "\n",
    "import pandas as pd"
   ]
  },
  {
   "cell_type": "code",
   "execution_count": null,
   "metadata": {},
   "outputs": [],
   "source": [
    "# 保留 pandas feed 部分\n",
    "\n",
    "# 数据准备 300ETF 日级别数据\n",
    "dataframe = pd.DataFrame()\n",
    "for i in range(7):\n",
    "    df = pd.read_csv('../hist_data/510300_D_{}.csv'.format(2013+i), parse_dates=True, index_col=0)\n",
    "    dataframe = pd.concat([dataframe,df])\n",
    "    \n",
    "# pandasdata feeder\n",
    "feed = bt.feeds.PandasData(dataname=dataframe, openinterest=None)"
   ]
  },
  {
   "cell_type": "code",
   "execution_count": null,
   "metadata": {},
   "outputs": [],
   "source": [
    "# mysql feed 使用数据库作为数据源\n",
    "from mysqlfeed import MysqlData\n",
    "\n",
    "feed = MysqlData(\n",
    "    db='stock_etf',\n",
    "    dataname='etf510300',\n",
    "    fromdate=datetime.date(2016,1,1),\n",
    "    todate=datetime.date(2019,12,31), \n",
    ")"
   ]
  },
  {
   "cell_type": "code",
   "execution_count": null,
   "metadata": {},
   "outputs": [],
   "source": [
    "class MacdStrategy(bt.Strategy):\n",
    "    params = (\n",
    "        ('fastperiod', 10),\n",
    "        ('slowperiod', 22),\n",
    "        ('signalperiod', 8),\n",
    "    )\n",
    "    \n",
    "        \n",
    "    def __init__(self):\n",
    "        \n",
    "        kwargs = {\n",
    "            'fastperiod': self.p.fastperiod,\n",
    "            'fastmatype': bt.talib.MA_Type.EMA,\n",
    "            'slowperiod': self.p.slowperiod,\n",
    "            'slowmatype': bt.talib.MA_Type.EMA,\n",
    "            'signalperiod': self.p.signalperiod,\n",
    "            'signalmatype': bt.talib.MA_Type.EMA,\n",
    "        }\n",
    "\n",
    "        # Add a Macd indicator\n",
    "        self.macd = bt.talib.MACDEXT(\n",
    "             self.data0.close, **kwargs)\n",
    "    \n",
    "        self.crossover = bt.indicators.CrossOver(self.macd.macd, self.macd.macdsignal, plot=False)\n",
    "        self.above = bt.And(self.macd.macd>0.0, self.macd.macdsignal>0.0)\n",
    "        \n",
    "        self.buy_signal = bt.And(self.above, self.crossover==1)\n",
    "        self.sell_signal = (self.crossover==-1)\n",
    "        # To keep track of pending orders\n",
    "        self.order = None\n",
    "        \n",
    "        \n",
    "    def notify_order(self, order):\n",
    "        if order.status in [order.Submitted, order.Accepted]:\n",
    "            # Buy/Sell order submitted/accepted to/by broker - Nothing to do\n",
    "            return\n",
    "\n",
    "        if order.status in [order.Completed, order.Canceled, order.Margin, order.Rejected]:\n",
    "            # Write down: no pending order\n",
    "            self.order = None\n",
    "\n",
    "    def next(self):\n",
    "        # Check if an order is pending ... if yes, we cannot send a 2nd one\n",
    "        if self.order:\n",
    "            return\n",
    "        \n",
    "        # Check if we are in the market\n",
    "        if not self.position:\n",
    "            # Not yet ... we MIGHT BUY if ...\n",
    "            if self.buy_signal[0]:\n",
    "                # Keep track of the created order to avoid a 2nd order\n",
    "                self.order = self.buy()\n",
    "        else:\n",
    "            # Already in the market ... we might sell\n",
    "            if self.sell_signal[0]:\n",
    "                # Keep track of the created order to avoid a 2nd order\n",
    "                self.order = self.sell()"
   ]
  },
  {
   "cell_type": "code",
   "execution_count": null,
   "metadata": {},
   "outputs": [],
   "source": [
    "cerebro = bt.Cerebro()\n",
    "\n",
    "\n",
    "cerebro.adddata(feed, name= 'etf300')\n",
    "cerebro.addstrategy(MacdStrategy)\n",
    "\n",
    "\n",
    "# 小场面1万起始资金\n",
    "cerebro.broker.setcash(10000.0)\n",
    "\n",
    "# 手续费万5\n",
    "cerebro.broker.setcommission(0.0005)\n",
    "\n",
    "# 以发出信号当日收盘价成交\n",
    "cerebro.broker.set_coc(True)\n",
    "\n",
    "# Add a FixedSize sizer according to the stake\n",
    "cerebro.addsizer(bt.sizers.AllInSizerInt, percents=99)\n",
    "\n",
    "print('Starting Portfolio Value: {:.2f}'.format(cerebro.broker.getvalue()))\n",
    "\n",
    "cerebro.addanalyzer(bt.analyzers.SQN)\n",
    "\n",
    "result = cerebro.run()\n",
    "\n",
    "print('Ending Portfolio Value: {:.2f}'.format(cerebro.broker.getvalue()))"
   ]
  },
  {
   "cell_type": "code",
   "execution_count": null,
   "metadata": {},
   "outputs": [],
   "source": [
    "ana = result[0].analyzers.sqn.get_analysis()\n",
    "print(\"sqn: {:.3f}, trades:{:d}\".format(ana['sqn'],ana['trades']))"
   ]
  },
  {
   "cell_type": "code",
   "execution_count": null,
   "metadata": {},
   "outputs": [],
   "source": [
    "cerebro.plot(iplot=True)"
   ]
  },
  {
   "cell_type": "code",
   "execution_count": null,
   "metadata": {},
   "outputs": [],
   "source": []
  }
 ],
 "metadata": {
  "kernelspec": {
   "display_name": "Python 3",
   "language": "python",
   "name": "python3"
  },
  "language_info": {
   "codemirror_mode": {
    "name": "ipython",
    "version": 3
   },
   "file_extension": ".py",
   "mimetype": "text/x-python",
   "name": "python",
   "nbconvert_exporter": "python",
   "pygments_lexer": "ipython3",
   "version": "3.7.5"
  }
 },
 "nbformat": 4,
 "nbformat_minor": 4
}
